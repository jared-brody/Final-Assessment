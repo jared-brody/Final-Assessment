{
 "cells": [
  {
   "cell_type": "markdown",
   "id": "475b05af-1bcd-444d-898b-9055118e55be",
   "metadata": {},
   "source": [
    "# Data Science Tools and Ecosystems"
   ]
  },
  {
   "cell_type": "markdown",
   "id": "1f8dbfbb-5404-4b64-88e1-160f6acd6df6",
   "metadata": {},
   "source": [
    "**Objectives:**\n",
    "- Popular languages for Data Science\n",
    "- Commonly used libraries used by Data Scientists\n",
    "- Examples of evaluating arithmetic examples in Python"
   ]
  },
  {
   "cell_type": "markdown",
   "id": "6b0fd627-e7c2-462c-be62-7b637ccf25b9",
   "metadata": {},
   "source": [
    "In this notebook, Data Science Tools and Ecosystem are summarized."
   ]
  },
  {
   "cell_type": "markdown",
   "id": "1263f9f8-0cc3-424a-8d17-4e56cab71ec8",
   "metadata": {},
   "source": [
    "Some of the popular languages that Data Scientists use are:"
   ]
  },
  {
   "cell_type": "markdown",
   "id": "38739ec7-c566-450e-acba-fa65acc15fd8",
   "metadata": {},
   "source": [
    "1. Python\n",
    "2. R\n",
    "3. SQL"
   ]
  },
  {
   "cell_type": "markdown",
   "id": "2a799995-8a89-45c5-8af1-57010761452d",
   "metadata": {},
   "source": [
    "Some of the commonly used libraries used by Data Scientists include:\n",
    "1. NumPy\n",
    "2. ggplot2\n",
    "3. MySQL"
   ]
  },
  {
   "cell_type": "markdown",
   "id": "baffe748-1cec-4505-b0f9-8abf9cfea132",
   "metadata": {},
   "source": [
    "| Data Science Tools |\n",
    "|--------------------|\n",
    "| Jupyter Notbooks |\n",
    "|Jupyter Lab |\n",
    "| R Studio |"
   ]
  },
  {
   "cell_type": "markdown",
   "id": "325ffbfb-553d-4294-871a-bb6be998c8c8",
   "metadata": {},
   "source": [
    "### Below are a few examples of evaluating arithmetic expressions in Python"
   ]
  },
  {
   "cell_type": "markdown",
   "id": "9c4de45e-944d-4f37-947c-795d498c69f6",
   "metadata": {},
   "source": [
    "This is a simple arithmetic expression to multiply then add integers"
   ]
  },
  {
   "cell_type": "code",
   "execution_count": 3,
   "id": "0c79f4e5-7d29-45fa-8b1f-e61b16eb0ac0",
   "metadata": {},
   "outputs": [
    {
     "data": {
      "text/plain": [
       "17"
      ]
     },
     "execution_count": 3,
     "metadata": {},
     "output_type": "execute_result"
    }
   ],
   "source": [
    "(3*4)+5"
   ]
  },
  {
   "cell_type": "markdown",
   "id": "f957b60e-fc8a-4f16-85e5-092cec336c05",
   "metadata": {},
   "source": [
    "This will convert 200 minutes to hours by dividing by 60"
   ]
  },
  {
   "cell_type": "code",
   "execution_count": 4,
   "id": "31c374ea-591f-42ae-8cce-59bb7b695374",
   "metadata": {},
   "outputs": [
    {
     "name": "stdout",
     "output_type": "stream",
     "text": [
      "3.3333333333333335\n"
     ]
    }
   ],
   "source": [
    "minutes = 200\n",
    "hours = minutes / 60\n",
    "print(hours)"
   ]
  },
  {
   "cell_type": "markdown",
   "id": "cdf94db1-4015-4c97-8554-abb603cfe427",
   "metadata": {},
   "source": [
    "## Author\n",
    "Jared Brody"
   ]
  },
  {
   "cell_type": "code",
   "execution_count": null,
   "id": "d8ac9398-dba4-4c55-b817-afed4940bae3",
   "metadata": {},
   "outputs": [],
   "source": []
  }
 ],
 "metadata": {
  "kernelspec": {
   "display_name": "anaconda-ai-2024.04-py310",
   "language": "python",
   "name": "conda-env-anaconda-ai-2024.04-py310-py"
  },
  "language_info": {
   "codemirror_mode": {
    "name": "ipython",
    "version": 3
   },
   "file_extension": ".py",
   "mimetype": "text/x-python",
   "name": "python",
   "nbconvert_exporter": "python",
   "pygments_lexer": "ipython3",
   "version": "3.10.13"
  }
 },
 "nbformat": 4,
 "nbformat_minor": 5
}
